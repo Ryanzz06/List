{
  "nbformat": 4,
  "nbformat_minor": 0,
  "metadata": {
    "colab": {
      "name": "Ryan list",
      "provenance": [],
      "authorship_tag": "ABX9TyPDJM4lNYIYH30F45WYVTRY",
      "include_colab_link": true
    },
    "kernelspec": {
      "name": "python3",
      "display_name": "Python 3"
    },
    "language_info": {
      "name": "python"
    }
  },
  "cells": [
    {
      "cell_type": "markdown",
      "metadata": {
        "id": "view-in-github",
        "colab_type": "text"
      },
      "source": [
        "<a href=\"https://colab.research.google.com/github/Ryanzz06/List/blob/main/Ryan_list.ipynb\" target=\"_parent\"><img src=\"https://colab.research.google.com/assets/colab-badge.svg\" alt=\"Open In Colab\"/></a>"
      ]
    },
    {
      "cell_type": "code",
      "source": [
        "List_barang = []\n",
        "\n",
        "perintah = 0\n",
        "while perintah != '7':\n",
        "  print (\"\"\" 1. menambah\n",
        " 2. menghapus\n",
        " 3. mengubah\n",
        " 4. menampilkan\n",
        " 5. cari barang \n",
        " 6. cari index \n",
        " 7. program berhenti\"\"\")\n",
        "  perintah = input (\"masukkan  perintah :\")\n",
        "\n",
        "  if perintah == '1' :\n",
        "    nama_barang = input (\"masukkan nama barang :\")\n",
        "    List_barang.append (nama_barang)\n",
        "\n",
        "  elif perintah == '2':\n",
        "    index =int (input(\"masukkan index yang akan dihapus :\"))\n",
        "    List_barang.pop(index)\n",
        "\n",
        "  elif perintah == '3':\n",
        "    barang_lama = int(input(\"masukkan barang yang dicari\"))\n",
        "    List_barang [barang_lama] = input(\"masukkan barang baru :\")\n",
        "\n",
        "  elif perintah == '4':\n",
        "    print (List_barang)\n",
        "\n",
        "  elif perintah == '5':\n",
        "    mencari = input (\"masukkan barang yang dicari:\")\n",
        "    if mencari in List_barang :\n",
        "      print (\"barang ditemukan\")\n",
        "    else :\n",
        "      print (\"barang tidak ditemukan\")\n",
        "\n",
        "  elif perintah == '6':\n",
        "    mencari =input(\"masukkan barang yang dicari :\")\n",
        "    if mencari in List_barang :\n",
        "      print (List_barang.index (mencari))\n",
        "    else :\n",
        "      print (\"barang tidak ditemukan \")\n",
        "  else : \n",
        "    print(\"program berhenti\")"
      ],
      "metadata": {
        "colab": {
          "base_uri": "https://localhost:8080/"
        },
        "id": "dwaffJcCmt7o",
        "outputId": "7447e166-86d6-495f-9389-d57d636e874a"
      },
      "execution_count": null,
      "outputs": [
        {
          "output_type": "stream",
          "name": "stdout",
          "text": [
            " 1. menambah\n",
            " 2. menghapus\n",
            " 3. mengubah\n",
            " 4. menampilkan\n",
            " 5. cari barang \n",
            " 6. cari index \n",
            " 7. program berhenti\n"
          ]
        }
      ]
    }
  ]
}